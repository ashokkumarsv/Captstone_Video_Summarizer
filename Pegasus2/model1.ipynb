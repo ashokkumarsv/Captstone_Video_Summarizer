{
 "cells": [
  {
   "cell_type": "code",
   "execution_count": 33,
   "metadata": {},
   "outputs": [
    {
     "name": "stderr",
     "output_type": "stream",
     "text": [
      "Downloading data: 100%|██████████| 304M/304M [01:55<00:00, 2.65MB/s] \n",
      "Downloading data: 100%|██████████| 16.7M/16.7M [00:07<00:00, 2.19MB/s]\n",
      "Downloading data: 100%|██████████| 17.0M/17.0M [00:09<00:00, 1.74MB/s]\n",
      "Generating train split: 100%|██████████| 204045/204045 [00:01<00:00, 119824.12 examples/s]\n",
      "Generating validation split: 100%|██████████| 11332/11332 [00:00<00:00, 123119.34 examples/s]\n",
      "Generating test split: 100%|██████████| 11334/11334 [00:00<00:00, 117676.20 examples/s]\n"
     ]
    }
   ],
   "source": [
    "# import csv\n",
    "# from datasets import load_dataset\n",
    "\n",
    "# dataset = load_dataset(\"EdinburghNLP/xsum\")\n",
    "# documents = dataset[\"train\"][\"document\"]\n",
    "# summaries = dataset[\"train\"][\"summary\"]\n",
    "# with open(\"xsum_data.csv\", \"w\", newline=\"\", encoding=\"utf-8\") as csvfile:\n",
    "#     writer = csv.writer(csvfile)\n",
    "#     writer.writerow([\"document\", \"summary\"])  # Write header row\n",
    "#     for doc, summ in zip(documents[:250], summaries[:250]):\n",
    "#         writer.writerow([doc, summ])"
   ]
  },
  {
   "cell_type": "code",
   "execution_count": 1,
   "metadata": {},
   "outputs": [
    {
     "name": "stderr",
     "output_type": "stream",
     "text": [
      "c:\\Users\\sudhy\\.conda\\envs\\tf-gpu\\Lib\\site-packages\\tqdm\\auto.py:21: TqdmWarning: IProgress not found. Please update jupyter and ipywidgets. See https://ipywidgets.readthedocs.io/en/stable/user_install.html\n",
      "  from .autonotebook import tqdm as notebook_tqdm\n",
      "Downloading readme: 100%|██████████| 15.6k/15.6k [00:00<00:00, 14.1MB/s]\n",
      "Downloading data: 100%|██████████| 257M/257M [01:49<00:00, 2.34MB/s] \n",
      "Downloading data: 100%|██████████| 257M/257M [00:56<00:00, 4.55MB/s] \n",
      "Downloading data: 100%|██████████| 259M/259M [01:16<00:00, 3.38MB/s] \n",
      "Downloading data: 100%|██████████| 34.7M/34.7M [00:19<00:00, 1.76MB/s]\n",
      "Downloading data: 100%|██████████| 30.0M/30.0M [00:11<00:00, 2.57MB/s]\n",
      "Generating train split: 100%|██████████| 287113/287113 [00:05<00:00, 52968.94 examples/s]\n",
      "Generating validation split: 100%|██████████| 13368/13368 [00:00<00:00, 52139.93 examples/s]\n",
      "Generating test split: 100%|██████████| 11490/11490 [00:00<00:00, 50743.16 examples/s]\n"
     ]
    }
   ],
   "source": [
    "from datasets import load_dataset\n",
    "\n",
    "dataset = load_dataset('cnn_dailymail', '3.0.0')\n",
    "train_data = dataset['train']\n",
    "val_data = dataset['validation']\n",
    "test_data = dataset['test']\n"
   ]
  },
  {
   "cell_type": "code",
   "execution_count": null,
   "metadata": {},
   "outputs": [],
   "source": []
  }
 ],
 "metadata": {
  "kernelspec": {
   "display_name": "tf-gpu",
   "language": "python",
   "name": "python3"
  },
  "language_info": {
   "codemirror_mode": {
    "name": "ipython",
    "version": 3
   },
   "file_extension": ".py",
   "mimetype": "text/x-python",
   "name": "python",
   "nbconvert_exporter": "python",
   "pygments_lexer": "ipython3",
   "version": "3.12.2"
  }
 },
 "nbformat": 4,
 "nbformat_minor": 2
}
