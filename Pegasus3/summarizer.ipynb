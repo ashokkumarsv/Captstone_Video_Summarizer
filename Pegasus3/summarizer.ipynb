{
 "cells": [
  {
   "cell_type": "code",
   "execution_count": 2,
   "metadata": {},
   "outputs": [
    {
     "name": "stdout",
     "output_type": "stream",
     "text": [
      "Collecting t5==0.6.2\n",
      "  Downloading t5-0.6.2-py3-none-any.whl.metadata (24 kB)\n",
      "Requirement already satisfied: absl-py in c:\\users\\sudhy\\.conda\\envs\\tf-gpu\\lib\\site-packages (from t5==0.6.2) (2.1.0)\n",
      "Collecting babel (from t5==0.6.2)\n",
      "  Downloading Babel-2.15.0-py3-none-any.whl.metadata (1.5 kB)\n",
      "Requirement already satisfied: gin-config in c:\\users\\sudhy\\.conda\\envs\\tf-gpu\\lib\\site-packages (from t5==0.6.2) (0.5.0)\n",
      "Requirement already satisfied: mesh-tensorflow>=0.1.13 in c:\\users\\sudhy\\.conda\\envs\\tf-gpu\\lib\\site-packages (from mesh-tensorflow[transformer]>=0.1.13->t5==0.6.2) (0.1.21)\n",
      "Requirement already satisfied: nltk in c:\\users\\sudhy\\.conda\\envs\\tf-gpu\\lib\\site-packages (from t5==0.6.2) (3.8.1)\n",
      "Requirement already satisfied: numpy in c:\\users\\sudhy\\.conda\\envs\\tf-gpu\\lib\\site-packages (from t5==0.6.2) (1.26.4)\n",
      "Requirement already satisfied: pandas in c:\\users\\sudhy\\.conda\\envs\\tf-gpu\\lib\\site-packages (from t5==0.6.2) (2.2.1)\n",
      "Requirement already satisfied: rouge-score in c:\\users\\sudhy\\.conda\\envs\\tf-gpu\\lib\\site-packages (from t5==0.6.2) (0.1.2)\n",
      "Collecting sacrebleu (from t5==0.6.2)\n",
      "  Downloading sacrebleu-2.4.2-py3-none-any.whl.metadata (58 kB)\n",
      "     ---------------------------------------- 0.0/58.0 kB ? eta -:--:--\n",
      "     ---------------------------------------- 58.0/58.0 kB 1.5 MB/s eta 0:00:00\n",
      "Requirement already satisfied: scikit-learn in c:\\users\\sudhy\\.conda\\envs\\tf-gpu\\lib\\site-packages (from t5==0.6.2) (1.4.1.post1)\n",
      "Requirement already satisfied: scipy in c:\\users\\sudhy\\.conda\\envs\\tf-gpu\\lib\\site-packages (from t5==0.6.2) (1.11.4)\n",
      "Requirement already satisfied: sentencepiece in c:\\users\\sudhy\\.conda\\envs\\tf-gpu\\lib\\site-packages (from t5==0.6.2) (0.2.0)\n",
      "Requirement already satisfied: six>=1.14 in c:\\users\\sudhy\\.conda\\envs\\tf-gpu\\lib\\site-packages (from t5==0.6.2) (1.16.0)\n",
      "INFO: pip is looking at multiple versions of t5 to determine which version is compatible with other requirements. This could take a while.\n"
     ]
    },
    {
     "name": "stderr",
     "output_type": "stream",
     "text": [
      "ERROR: Could not find a version that satisfies the requirement tensorflow-text (from t5) (from versions: none)\n",
      "ERROR: No matching distribution found for tensorflow-text\n"
     ]
    }
   ],
   "source": [
    "!pip install t5==0.6.2\n"
   ]
  },
  {
   "cell_type": "code",
   "execution_count": 1,
   "metadata": {},
   "outputs": [
    {
     "name": "stdout",
     "output_type": "stream",
     "text": [
      "Note: you may need to restart the kernel to use updated packages.\n"
     ]
    },
    {
     "name": "stderr",
     "output_type": "stream",
     "text": [
      "ERROR: Could not find a version that satisfies the requirement tensorflow-text (from trax) (from versions: none)\n",
      "ERROR: No matching distribution found for tensorflow-text\n"
     ]
    }
   ],
   "source": [
    "pip install -q -U trax==1.3.4"
   ]
  },
  {
   "cell_type": "markdown",
   "metadata": {},
   "source": []
  },
  {
   "cell_type": "code",
   "execution_count": null,
   "metadata": {},
   "outputs": [],
   "source": []
  }
 ],
 "metadata": {
  "kernelspec": {
   "display_name": "tf-gpu",
   "language": "python",
   "name": "python3"
  },
  "language_info": {
   "codemirror_mode": {
    "name": "ipython",
    "version": 3
   },
   "file_extension": ".py",
   "mimetype": "text/x-python",
   "name": "python",
   "nbconvert_exporter": "python",
   "pygments_lexer": "ipython3",
   "version": "3.12.2"
  }
 },
 "nbformat": 4,
 "nbformat_minor": 2
}
