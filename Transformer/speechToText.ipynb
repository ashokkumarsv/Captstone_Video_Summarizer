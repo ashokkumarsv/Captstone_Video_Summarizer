{
 "cells": [
  {
   "cell_type": "code",
   "execution_count": 23,
   "metadata": {},
   "outputs": [],
   "source": [
    "# pip install soundfile"
   ]
  },
  {
   "cell_type": "code",
   "execution_count": 41,
   "metadata": {},
   "outputs": [
    {
     "name": "stdout",
     "output_type": "stream",
     "text": [
      "Sample rate: 16000\n",
      "Data shape: (187520,)\n",
      "MFCCs shape: (13, 367)\n",
      "Feature vector shape: (4771,)\n",
      "Feature vector: [-525.50218157 -508.8686452  -507.8815733  ...    6.2823903     4.89057334\n",
      "    2.13034547]\n"
     ]
    }
   ],
   "source": [
    "import soundfile as sf\n",
    "\n",
    "# Load the FLAC file\n",
    "file_path = 'sampleA.flac'\n",
    "data, sample_rate = sf.read(file_path)\n",
    "\n",
    "print(f\"Sample rate: {sample_rate}\")\n",
    "print(f\"Data shape: {data.shape}\")\n",
    "\n",
    "# Compute the Mel-frequency cepstral coefficients (MFCCs)\n",
    "mfccs = librosa.feature.mfcc(y=data, sr=sample_rate, n_mfcc=13)\n",
    "\n",
    "# Flatten the MFCCs to create a feature vector\n",
    "feature_vector = mfccs.flatten()\n",
    "\n",
    "print(f\"MFCCs shape: {mfccs.shape}\")\n",
    "print(f\"Feature vector shape: {feature_vector.shape}\")\n",
    "print(f\"Feature vector: {feature_vector}\")"
   ]
  },
  {
   "cell_type": "code",
   "execution_count": 42,
   "metadata": {},
   "outputs": [
    {
     "name": "stdout",
     "output_type": "stream",
     "text": [
      "Sample rate: 16000\n",
      "Data shape: (128320,)\n",
      "MFCCs shape: (13, 251)\n",
      "Feature vector shape: (3263,)\n",
      "Feature vector: [-577.99829082 -547.40746443 -541.99216816 ...    6.09362222    7.32465722\n",
      "   10.2940594 ]\n"
     ]
    }
   ],
   "source": [
    "import soundfile as sf\n",
    "\n",
    "# Load the FLAC file\n",
    "file_path = 'sampleA2.flac'\n",
    "data, sample_rate = sf.read(file_path)\n",
    "\n",
    "print(f\"Sample rate: {sample_rate}\")\n",
    "print(f\"Data shape: {data.shape}\")\n",
    "\n",
    "# Compute the Mel-frequency cepstral coefficients (MFCCs)\n",
    "mfccs = librosa.feature.mfcc(y=data, sr=sample_rate, n_mfcc=13)\n",
    "\n",
    "# Flatten the MFCCs to create a feature vector\n",
    "feature_vector = mfccs.flatten()\n",
    "\n",
    "print(f\"MFCCs shape: {mfccs.shape}\")\n",
    "print(f\"Feature vector shape: {feature_vector.shape}\")\n",
    "print(f\"Feature vector: {feature_vector}\")"
   ]
  },
  {
   "cell_type": "code",
   "execution_count": 39,
   "metadata": {},
   "outputs": [
    {
     "data": {
      "text/plain": [
       "[83, 1609, 5963, 374, 2294, 0]"
      ]
     },
     "execution_count": 39,
     "metadata": {},
     "output_type": "execute_result"
    }
   ],
   "source": [
    "import tiktoken\n",
    "encoding = tiktoken.encoding_for_model(\"gpt-3.5-turbo\")\n",
    "input = encoding.encode(\"tiktoken is great!\")\n",
    "input"
   ]
  },
  {
   "cell_type": "code",
   "execution_count": 40,
   "metadata": {},
   "outputs": [
    {
     "data": {
      "text/plain": [
       "'tiktoken is great!'"
      ]
     },
     "execution_count": 40,
     "metadata": {},
     "output_type": "execute_result"
    }
   ],
   "source": [
    "encoding.decode(input)"
   ]
  },
  {
   "cell_type": "code",
   "execution_count": null,
   "metadata": {},
   "outputs": [],
   "source": []
  }
 ],
 "metadata": {
  "kernelspec": {
   "display_name": "tf-gpu",
   "language": "python",
   "name": "python3"
  },
  "language_info": {
   "codemirror_mode": {
    "name": "ipython",
    "version": 3
   },
   "file_extension": ".py",
   "mimetype": "text/x-python",
   "name": "python",
   "nbconvert_exporter": "python",
   "pygments_lexer": "ipython3",
   "version": "3.12.2"
  }
 },
 "nbformat": 4,
 "nbformat_minor": 2
}
